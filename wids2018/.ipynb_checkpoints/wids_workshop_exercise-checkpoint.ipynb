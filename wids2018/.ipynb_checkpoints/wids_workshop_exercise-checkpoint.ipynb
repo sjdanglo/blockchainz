{
 "cells": [
  {
   "cell_type": "code",
   "execution_count": 8,
   "metadata": {
    "collapsed": true
   },
   "outputs": [],
   "source": [
    "%matplotlib inline\n",
    "import matplotlib\n",
    "import pandas as pd # package for data analysis, reading in the data, summarizing data, manipulating data\n",
    "import numpy as np # package for math operations\n",
    "import matplotlib.pyplot as plt # package for plotting\n",
    "from math import radians, cos, sin, asin, sqrt"
   ]
  },
  {
   "cell_type": "code",
   "execution_count": 9,
   "metadata": {
    "collapsed": true
   },
   "outputs": [],
   "source": [
    "# read in the data\n",
    "hubway_data = pd.read_csv('hubway_trips.csv')\n",
    "station_data = pd.read_csv('hubway_stations.csv', low_memory=False)[['id', 'lat', 'lng']]"
   ]
  },
  {
   "cell_type": "markdown",
   "metadata": {},
   "source": [
    "# Exercise \n",
    "* In this exercise we will explore the relationship between the number of bike checkouts at a particular station and the proximity of the station to Boston's city center\n",
    "* Please complete the code below to arrive at the final solution\n",
    "* We will break this up into the following tasks:"
   ]
  },
  {
   "cell_type": "markdown",
   "metadata": {},
   "source": [
    "1. Obtain the number of bike checkouts for each station\n",
    "2. Combine number of checkouts for each station with the location of each station\n",
    "3. Calculate distance to the center of Boston using the provided haversine function below\n",
    "4. Produce a scatter plot of distance to city center vs. number of checkouts\n",
    "5. Check if the plot matches your intuition"
   ]
  },
  {
   "cell_type": "markdown",
   "metadata": {},
   "source": [
    "# Additional Resources\n",
    "* Check [Pandas documentation](https://pandas.pydata.org/pandas-docs/stable/tutorials.html)\n",
    "* Examples for [join method](https://pandas.pydata.org/pandas-docs/stable/merging.html#joining-on-index)\n",
    "* Documentation for obtaining [counts](https://pandas.pydata.org/pandas-docs/stable/generated/pandas.Series.value_counts.html)\n",
    "* How to [apply a function to a DataFrame](https://pandas.pydata.org/pandas-docs/stable/generated/pandas.DataFrame.apply.html) and some [relevant examples](https://stackoverflow.com/questions/13331698/how-to-apply-a-function-to-two-columns-of-pandas-dataframe)"
   ]
  },
  {
   "cell_type": "code",
   "execution_count": 10,
   "metadata": {
    "collapsed": true
   },
   "outputs": [],
   "source": [
    "def haversine(pt, lat2=42.355589, lon2=-71.060175):\n",
    "    \"\"\"\n",
    "    Calculate the distance between two points \n",
    "    on the earth (specified in decimal degrees).\n",
    "    \n",
    "    pt : longitude and latitude\n",
    "    lat2 : optional (default=latitude of Boston's city center)\n",
    "    lon2 : optional (default=longitude of Boston's city center)\n",
    "    \"\"\"\n",
    "    lon1 = pt[0]\n",
    "    lat1 = pt[1]\n",
    "    \n",
    "    # convert decimal degrees to radians \n",
    "    lon1, lat1, lon2, lat2 = map(radians, [lon1, lat1, lon2, lat2])\n",
    "\n",
    "    # haversine formula \n",
    "    dlon = lon2 - lon1 \n",
    "    dlat = lat2 - lat1 \n",
    "    a = sin(dlat/2)**2 + cos(lat1) * cos(lat2) * sin(dlon/2)**2\n",
    "    c = 2 * asin(sqrt(a)) \n",
    "    r = 3956 # Radius of earth in miles\n",
    "    return c * r"
   ]
  },
  {
   "cell_type": "markdown",
   "metadata": {},
   "source": [
    "# Obtain number of checkouts for each station"
   ]
  },
  {
   "cell_type": "code",
   "execution_count": 11,
   "metadata": {
    "collapsed": true
   },
   "outputs": [],
   "source": [
    "# your code here"
   ]
  },
  {
   "cell_type": "markdown",
   "metadata": {},
   "source": [
    "# Join location data with number of checkouts"
   ]
  },
  {
   "cell_type": "code",
   "execution_count": 12,
   "metadata": {
    "collapsed": true
   },
   "outputs": [],
   "source": [
    "# your code here"
   ]
  },
  {
   "cell_type": "markdown",
   "metadata": {},
   "source": [
    "# Calculate distance to the center of Boston for each station"
   ]
  },
  {
   "cell_type": "code",
   "execution_count": 13,
   "metadata": {
    "collapsed": true
   },
   "outputs": [],
   "source": [
    "# your code here"
   ]
  },
  {
   "cell_type": "markdown",
   "metadata": {},
   "source": [
    "# Create a scatter plot"
   ]
  },
  {
   "cell_type": "code",
   "execution_count": 14,
   "metadata": {
    "collapsed": true
   },
   "outputs": [],
   "source": [
    "# your code here"
   ]
  }
 ],
 "metadata": {
  "kernelspec": {
   "display_name": "Python 2",
   "language": "python",
   "name": "python2"
  },
  "language_info": {
   "codemirror_mode": {
    "name": "ipython",
    "version": 2
   },
   "file_extension": ".py",
   "mimetype": "text/x-python",
   "name": "python",
   "nbconvert_exporter": "python",
   "pygments_lexer": "ipython2",
   "version": "2.7.10"
  }
 },
 "nbformat": 4,
 "nbformat_minor": 2
}
