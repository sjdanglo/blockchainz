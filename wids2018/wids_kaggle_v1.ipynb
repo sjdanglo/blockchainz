{
 "cells": [
  {
   "cell_type": "markdown",
   "metadata": {},
   "source": [
    "## STEP 0: What does the data look like?"
   ]
  },
  {
   "cell_type": "code",
   "execution_count": 108,
   "metadata": {},
   "outputs": [],
   "source": [
    "import pandas as pd\n",
    "import json\n",
    "\n",
    "#Import the training and test data sets\n",
    "df_train = pd.read_csv('train.csv', low_memory = False)\n",
    "df_test = pd.read_csv('test.csv', low_memory = False)\n",
    "\n",
    "list_train_columns = df_train.columns.tolist()  # these might come in handy later\n",
    "list_test_columns = df_test.columns.tolist()"
   ]
  },
  {
   "cell_type": "markdown",
   "metadata": {
    "collapsed": true
   },
   "source": [
    "#### Apart from the number of rows and columns, what other simple metrics are useful?"
   ]
  },
  {
   "cell_type": "code",
   "execution_count": 17,
   "metadata": {},
   "outputs": [
    {
     "name": "stdout",
     "output_type": "stream",
     "text": [
      "Training Dimensions: (18255, 1235)\n",
      "Testing Dimensions: (27285, 1234)\n"
     ]
    }
   ],
   "source": [
    "#Get number of rows and columns\n",
    "training_dimensions = df_train.shape\n",
    "testing_dimensions = df_test.shape\n",
    "\n",
    "print(\"Training Dimensions: \" + str(training_dimensions))\n",
    "print(\"Testing Dimensions: \" + str(testing_dimensions))"
   ]
  },
  {
   "cell_type": "markdown",
   "metadata": {},
   "source": [
    "#### Potentially interesting features in training dataset. Add to this dictionary and run the blocks of code below to generate the breakdown of female vs. male respondents. couldn't resolve the copy error python is throwing...but i know it won't affect the output"
   ]
  },
  {
   "cell_type": "code",
   "execution_count": 109,
   "metadata": {},
   "outputs": [],
   "source": [
    "dict_features = {\"Is Single/Not Married\": {\"DG3\":\"1\"}, \"Is Widow/Widower\": {\"DG3\":\"6\"}, \"Has Voter Card\" : {\"DG5_6\" : \"1\"} }  #use a two level dictionary so we can store 1) the feature we're interetsed in, 2) the column that contains the feature, 3) the value of the answer we're interested in"
   ]
  },
  {
   "cell_type": "code",
   "execution_count": 110,
   "metadata": {},
   "outputs": [
    {
     "name": "stdout",
     "output_type": "stream",
     "text": [
      "Breakdown for 'Is Single/Not Married': \n",
      "\n",
      "male      1774\n",
      "female    1132\n",
      "Name: gender, dtype: int64\n",
      "\n",
      "----------------------------------------\n",
      "\n",
      "Breakdown for 'Is Widow/Widower': \n",
      "\n",
      "female    972\n",
      "male      193\n",
      "Name: gender, dtype: int64\n",
      "\n",
      "----------------------------------------\n",
      "\n",
      "Breakdown for 'Has Voter Card': \n",
      "\n",
      "female    8016\n",
      "male      6903\n",
      "Name: gender, dtype: int64\n",
      "\n",
      "----------------------------------------\n",
      "\n"
     ]
    },
    {
     "name": "stderr",
     "output_type": "stream",
     "text": [
      "/anaconda3/lib/python3.6/site-packages/ipykernel_launcher.py:13: SettingWithCopyWarning: \n",
      "A value is trying to be set on a copy of a slice from a DataFrame.\n",
      "Try using .loc[row_indexer,col_indexer] = value instead\n",
      "\n",
      "See the caveats in the documentation: http://pandas.pydata.org/pandas-docs/stable/indexing.html#indexing-view-versus-copy\n",
      "  del sys.path[0]\n"
     ]
    }
   ],
   "source": [
    "features = dict_features.keys()   #use the keys from the dictionary above to create a list of interesting columns\n",
    "\n",
    "for feature in dict_features:\n",
    "    question_answer_pair = list(dict_features[feature].items())  # turn the dict into a list...stack overflow suggested this\n",
    "    column = str(question_answer_pair[0][0])\n",
    "    answer = int(question_answer_pair[0][1]) #gotta change this to an int to get the comparison below to work\n",
    "\n",
    "    \n",
    "    df_question = df_train[[column, \"is_female\"]]  #dataframe with the question and is_female columns\n",
    "    df_answer = df_question[df_question[column] == answer]  #dataframe with just the answer we're interested in\n",
    "    \n",
    "    gender_key = {1:\"female\", 0:\"male\"}\n",
    "    df_answer['gender'] = df_answer['is_female'].apply(lambda x: gender_key[x]) #i keep forgetting the key for gender, so lets replace it for easier printing\n",
    "    \n",
    "    print(\"Breakdown for '\" + str(feature) + \"': \\n\")\n",
    "    print(df_answer['gender'].value_counts())\n",
    "    print(\"\\n----------------------------------------\\n\")\n",
    "\n",
    "    \n",
    "   "
   ]
  },
  {
   "cell_type": "markdown",
   "metadata": {},
   "source": [
    "#### Some odd features about the dataset\n",
    "##### * Data dictionary is incorrect for values in 'is_female' column. See kaggle page: \"is_female - the target variable you are going to predict. Note: in the data dictionary, Female is 2, male is 1, while in our transformed data, is_female=1 for female and is_female=0 for male.\" \n",
    "##### * Columns in the test data set are not always in the training set, e.g. \"AA19\" not in data only in data dictionary\n",
    "##### * Answers to the survey questions are coded as numbers. How do we handle this? Do we store a dictionary of these values to keep track of the answers? i.e. \"AB6\", Q = \"Day of interview\", A = \"1 - Monday\", \"2 - Tuesday\", etc. --> {1: \"Monday\", 2: \"Tuesday\"}"
   ]
  },
  {
   "cell_type": "markdown",
   "metadata": {},
   "source": [
    "## STEP 1: Simple visualizations??"
   ]
  },
  {
   "cell_type": "markdown",
   "metadata": {},
   "source": [
    "## STEP 2: Which machine algorithm to use? and why?? "
   ]
  }
 ],
 "metadata": {
  "kernelspec": {
   "display_name": "Python 3",
   "language": "python",
   "name": "python3"
  },
  "language_info": {
   "codemirror_mode": {
    "name": "ipython",
    "version": 3
   },
   "file_extension": ".py",
   "mimetype": "text/x-python",
   "name": "python",
   "nbconvert_exporter": "python",
   "pygments_lexer": "ipython3",
   "version": "3.6.4"
  }
 },
 "nbformat": 4,
 "nbformat_minor": 2
}
