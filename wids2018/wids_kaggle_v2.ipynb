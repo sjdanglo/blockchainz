{
 "cells": [
  {
   "cell_type": "markdown",
   "metadata": {},
   "source": [
    "## STEP 0: What does the data look like?"
   ]
  },
  {
   "cell_type": "code",
   "execution_count": 49,
   "metadata": {},
   "outputs": [
    {
     "name": "stderr",
     "output_type": "stream",
     "text": [
      "/home/sjdanglo/anaconda3/lib/python3.6/site-packages/matplotlib/font_manager.py:279: UserWarning: Matplotlib is building the font cache using fc-list. This may take a moment.\n",
      "  'Matplotlib is building the font cache using fc-list. '\n"
     ]
    }
   ],
   "source": [
    "import pandas as pd\n",
    "import numpy as np\n",
    "import matplotlib.pyplot as plt\n",
    "\n",
    "#Import the training and test data sets\n",
    "df_train = pd.read_csv('train.csv', low_memory = False)\n",
    "df_test = pd.read_csv('test.csv', low_memory = False)\n",
    "\n",
    "list_train_columns = df_train.columns.tolist()  # these might come in handy later\n",
    "list_test_columns = df_test.columns.tolist()"
   ]
  },
  {
   "cell_type": "markdown",
   "metadata": {
    "collapsed": true
   },
   "source": [
    "#### Apart from the number of rows and columns, what other simple metrics are useful?"
   ]
  },
  {
   "cell_type": "code",
   "execution_count": 3,
   "metadata": {},
   "outputs": [
    {
     "name": "stdout",
     "output_type": "stream",
     "text": [
      "Training Dimensions: (18255, 1235)\n",
      "Testing Dimensions: (27285, 1234)\n"
     ]
    }
   ],
   "source": [
    "#Get number of rows and columns\n",
    "training_dimensions = df_train.shape\n",
    "testing_dimensions = df_test.shape\n",
    "\n",
    "print(\"Training Dimensions: \" + str(training_dimensions))\n",
    "print(\"Testing Dimensions: \" + str(testing_dimensions))"
   ]
  },
  {
   "cell_type": "markdown",
   "metadata": {},
   "source": [
    "#### Potentially interesting features in training dataset. Add to this dictionary and run the blocks of code below to generate the breakdown of female vs. male respondents. couldn't resolve the copy error python is throwing...but i know it won't affect the output"
   ]
  },
  {
   "cell_type": "code",
   "execution_count": 11,
   "metadata": {
    "collapsed": true
   },
   "outputs": [],
   "source": [
    "dict_features = {\"Is Single/Not Married\": {\"DG3\":\"1\"}, \"Is Widow/Widower\": {\"DG3\":\"6\"}, \"Has Voter Card\" : {\"DG5_6\" : \"1\"} }  #use a two level dictionary so we can store 1) the feature we're interetsed in, 2) the column that contains the feature, 3) the value of the answer we're interested in\n",
    "\n",
    "list_of_features = dict_features.keys() #use the keys from the dictionary above to create a list of interesting columns"
   ]
  },
  {
   "cell_type": "code",
   "execution_count": 16,
   "metadata": {},
   "outputs": [
    {
     "name": "stdout",
     "output_type": "stream",
     "text": [
      "Breakdown for 'Is Single/Not Married': \n",
      "\n",
      "male      1774\n",
      "female    1132\n",
      "Name: gender, dtype: int64\n",
      "\n",
      "----------------------------------------\n",
      "\n",
      "Breakdown for 'Is Widow/Widower': \n",
      "\n",
      "female    972\n",
      "male      193\n",
      "Name: gender, dtype: int64\n",
      "\n",
      "----------------------------------------\n",
      "\n",
      "Breakdown for 'Has Voter Card': \n",
      "\n",
      "female    8016\n",
      "male      6903\n",
      "Name: gender, dtype: int64\n",
      "\n",
      "----------------------------------------\n",
      "\n"
     ]
    },
    {
     "name": "stderr",
     "output_type": "stream",
     "text": [
      "/home/sjdanglo/anaconda3/lib/python3.6/site-packages/ipykernel_launcher.py:13: SettingWithCopyWarning: \n",
      "A value is trying to be set on a copy of a slice from a DataFrame.\n",
      "Try using .loc[row_indexer,col_indexer] = value instead\n",
      "\n",
      "See the caveats in the documentation: http://pandas.pydata.org/pandas-docs/stable/indexing.html#indexing-view-versus-copy\n",
      "  del sys.path[0]\n"
     ]
    }
   ],
   "source": [
    "#Function for printing the female vs. male breakdown for a given question, AND \n",
    "\n",
    "for feature in list_of_features:\n",
    "    question_answer_pair = list(dict_features[feature].items())  # turn the dict into a list...stack overflow suggested this\n",
    "    column = str(question_answer_pair[0][0])\n",
    "    answer = int(question_answer_pair[0][1]) #gotta change this to an int to get the comparison below to work\n",
    "\n",
    "    \n",
    "    df_question = df_train[[column, \"is_female\"]]  #dataframe with the question and is_female columns\n",
    "    df_answer = df_question[df_question[column] == answer]  #dataframe with just the answer we're interested in\n",
    "    \n",
    "    gender_key = {1:\"female\", 0:\"male\"}\n",
    "    df_answer['gender'] = df_answer['is_female'].apply(lambda x: gender_key[x]) #i keep forgetting the key for gender, so lets replace it for easier printing\n",
    "    \n",
    "    print(\"Breakdown for '\" + str(feature) + \"': \\n\")\n",
    "    print(df_answer['gender'].value_counts())\n",
    "    print(\"\\n----------------------------------------\\n\")\n",
    "\n",
    "    \n",
    "   "
   ]
  },
  {
   "cell_type": "markdown",
   "metadata": {},
   "source": [
    "#### Some odd features about the dataset\n",
    "##### * Data dictionary is incorrect for values in 'is_female' column. See kaggle page: \"is_female - the target variable you are going to predict. Note: in the data dictionary, Female is 2, male is 1, while in our transformed data, is_female=1 for female and is_female=0 for male.\" \n",
    "##### * Columns in the test data set are not always in the training set, e.g. \"AA19\" not in data only in data dictionary\n",
    "##### * Answers to the survey questions are coded as numbers. How do we handle this? Do we store a dictionary of these values to keep track of the answers? i.e. \"AB6\", Q = \"Day of interview\", A = \"1 - Monday\", \"2 - Tuesday\", etc. --> {1: \"Monday\", 2: \"Tuesday\"}"
   ]
  },
  {
   "cell_type": "markdown",
   "metadata": {},
   "source": [
    "## Step 1: Choosing features"
   ]
  },
  {
   "cell_type": "code",
   "execution_count": 76,
   "metadata": {},
   "outputs": [
    {
     "data": {
      "image/png": "[encoded data removed]",
      "text/plain": [
       "<matplotlib.figure.Figure at 0x7f29d830d5c0>"
      ]
     },
     "metadata": {},
     "output_type": "display_data"
    }
   ],
   "source": [
    "column = 'DG3'\n",
    "fig, ax = plt.subplots()\n",
    "\n",
    "df_train_female = df_train[df_train['is_female'] == 1]\n",
    "df_train_male = df_train[df_train['is_female'] == 0]\n",
    "\n",
    "df_train_female[column].value_counts().plot(ax = ax, kind = 'bar')  #women are in blue\n",
    "df_train_male[column].value_counts().plot(ax = ax, kind = 'bar', color = 'green')\n",
    "\n",
    "plt.show()"
   ]
  },
  {
   "cell_type": "markdown",
   "metadata": {},
   "source": [
    "## STEP 2: One-hot encoding "
   ]
  },
  {
   "cell_type": "code",
   "execution_count": 48,
   "metadata": {},
   "outputs": [
    {
     "name": "stdout",
     "output_type": "stream",
     "text": [
      "[[1 0 0 ..., 0 0 0]\n",
      " [0 1 0 ..., 0 0 0]\n",
      " [1 0 0 ..., 0 0 0]\n",
      " ..., \n",
      " [1 0 0 ..., 0 0 0]\n",
      " [1 0 0 ..., 0 0 0]\n",
      " [1 0 0 ..., 0 0 0]]\n",
      "   DG3\n",
      "0    3\n",
      "1    8\n",
      "2    3\n",
      "       DG3\n",
      "18252    3\n",
      "18253    3\n",
      "18254    3\n",
      "\n",
      "[[1 0 0 ..., 0 0 0]\n",
      " [0 1 0 ..., 0 0 0]\n",
      " [1 0 0 ..., 0 0 0]\n",
      " ..., \n",
      " [1 0 0 ..., 0 0 0]\n",
      " [1 0 0 ..., 0 0 0]\n",
      " [1 0 0 ..., 0 0 0]]\n",
      "   DG3\n",
      "0    3\n",
      "1    8\n",
      "2    3\n",
      "       DG3\n",
      "18252    3\n",
      "18253    3\n",
      "18254    3\n",
      "\n",
      "[[1 0]\n",
      " [1 0]\n",
      " [1 0]\n",
      " ..., \n",
      " [1 0]\n",
      " [1 0]\n",
      " [1 0]]\n",
      "   DG5_6\n",
      "0      1\n",
      "1      1\n",
      "2      1\n",
      "       DG5_6\n",
      "18252      1\n",
      "18253      1\n",
      "18254      1\n",
      "\n"
     ]
    }
   ],
   "source": [
    "#Determine what the unique values in a given columns are\n",
    "for feature in list_of_features:\n",
    "    \n",
    "    question_answer_pair = list(dict_features[feature].items())  # turn the dict into a list...stack overflow suggested this\n",
    "    column = str(question_answer_pair[0][0])\n",
    "    list_unique_values = df_train[column].unique().tolist()  #Get list of unique values\n",
    "    \n",
    "    dict_unique_values = {}\n",
    "    for i, value in enumerate(list_unique_values):\n",
    "        dict_unique_values[value] = i      \n",
    "    \n",
    "    #array of zeros with number of rows equal to number of rows in training set, and number of columns equal to number of unique values\n",
    "    encoded_feature_array = np.zeros((df_train.shape[0], len(list_unique_values)), dtype = \"int\") \n",
    "    \n",
    "    \n",
    "    df_feature = df_train[[column]]   #create dataframe with one column--the column that contains the features we're interested in\n",
    "    for row in df_feature.itertuples():\n",
    "        array_column = dict_unique_values[row[1]]\n",
    "        array_location = (row[0], array_column)\n",
    "        encoded_feature_array[array_location] = 1   \n",
    "    \n",
    "    print(encoded_feature_array)     #this is an array for a single feature\n",
    "    print(df_feature.head(3))\n",
    "    print(df_feature.tail(3))\n",
    "    print()\n",
    "\n",
    "\n",
    "#We can later create a \"feature vector\" where feature_vector == [encoded_feature_array(column1), encodeD_feature_aray(column2)...\n",
    "                                     \n",
    "                                    \n",
    "    \n",
    "    \n",
    "    \n",
    "        \n",
    "        \n",
    "        \n",
    "    "
   ]
  },
  {
   "cell_type": "markdown",
   "metadata": {},
   "source": [
    "## STEP 2: Which machine algorithm to use? and why?? "
   ]
  }
 ],
 "metadata": {
  "kernelspec": {
   "display_name": "Python 3",
   "language": "python",
   "name": "python3"
  },
  "language_info": {
   "codemirror_mode": {
    "name": "ipython",
    "version": 3
   },
   "file_extension": ".py",
   "mimetype": "text/x-python",
   "name": "python",
   "nbconvert_exporter": "python",
   "pygments_lexer": "ipython3",
   "version": "3.6.3"
  }
 },
 "nbformat": 4,
 "nbformat_minor": 2
}
